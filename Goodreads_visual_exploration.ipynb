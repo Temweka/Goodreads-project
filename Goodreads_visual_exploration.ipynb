{
 "cells": [
  {
   "cell_type": "markdown",
   "metadata": {},
   "source": [
    "# Goodreads Dataset Exploration"
   ]
  },
  {
   "cell_type": "markdown",
   "metadata": {},
   "source": [
    "I like books and I like data. So I wanted to create fun and interesting visualistions where these two pleasures of mine intersect. I wanted to see if there were any immediately observable trends about popular books in the data.\n",
    "\n",
    "The main questions I wanted to address are:\n",
    "1. What does the average book look like?\n",
    "2. Does the number of people who have read a book correlate to the rating of said book? ie does the popularity of a book suggest its “goodness”\n",
    "3. Which genres perform better?"
   ]
  },
  {
   "cell_type": "markdown",
   "metadata": {},
   "source": [
    "### Importing Useful Libraries"
   ]
  },
  {
   "cell_type": "code",
   "execution_count": null,
   "metadata": {},
   "outputs": [],
   "source": [
    "import pandas as pd\n",
    "import numpy as np\n",
    "import os\n",
    "import math\n",
    "import re\n",
    "import statistics"
   ]
  },
  {
   "cell_type": "code",
   "execution_count": null,
   "metadata": {},
   "outputs": [],
   "source": [
    "os.getcwd()"
   ]
  },
  {
   "cell_type": "markdown",
   "metadata": {},
   "source": [
    "### Gather:\n",
    "Importing the dataset"
   ]
  },
  {
   "cell_type": "code",
   "execution_count": null,
   "metadata": {},
   "outputs": [],
   "source": [
    "books = pd.read_csv('goodreads_books.csv')"
   ]
  },
  {
   "cell_type": "markdown",
   "metadata": {},
   "source": [
    "### Assess\n",
    "Looking at the values of observations in the datset"
   ]
  },
  {
   "cell_type": "code",
   "execution_count": null,
   "metadata": {},
   "outputs": [],
   "source": [
    "books.head()"
   ]
  },
  {
   "cell_type": "markdown",
   "metadata": {},
   "source": [
    "### Clean\n",
    "Removing columns that are not useful, for example, columns that contain web links"
   ]
  },
  {
   "cell_type": "code",
   "execution_count": null,
   "metadata": {},
   "outputs": [],
   "source": [
    "remove_col = ['link','cover_link', 'author_link', 'isbn13', 'isbn', 'asin', 'amazon_redirect_link', 'worldcat_redirect_link', 'recommended_books', 'books_in_series', 'description']\n",
    "books = books.drop(columns = remove_col)"
   ]
  },
  {
   "cell_type": "code",
   "execution_count": null,
   "metadata": {},
   "outputs": [],
   "source": [
    "books.head()"
   ]
  },
  {
   "cell_type": "code",
   "execution_count": null,
   "metadata": {},
   "outputs": [],
   "source": [
    "books.info()"
   ]
  },
  {
   "cell_type": "markdown",
   "metadata": {},
   "source": [
    "Rows with no rating were dropped, as ratings suggest that people have read the book. Therefore no conclusion can be drawn about the appeal or popularity of the books if no one has rated it.  "
   ]
  },
  {
   "cell_type": "code",
   "execution_count": null,
   "metadata": {},
   "outputs": [],
   "source": [
    "books = books[~books.rating_count.isin([0])]"
   ]
  },
  {
   "cell_type": "markdown",
   "metadata": {},
   "source": [
    "The `number_of_pages` is the only numerical variable that has some missing values. The missing values were filled with the mean values. Books ideally will not have zero pages, so it was not be good to replace `NaN` with zero, nor is the variable central to understanding the popularity of the book, so there is no need to drop such rows. Mean values works well as an approximation of the book size. "
   ]
  },
  {
   "cell_type": "code",
   "execution_count": null,
   "metadata": {},
   "outputs": [],
   "source": [
    "books.number_of_pages = books.number_of_pages.fillna(books.number_of_pages.mean())"
   ]
  },
  {
   "cell_type": "markdown",
   "metadata": {},
   "source": [
    "The missing values in `genre_and_votes` were replaced with a label `Unknown`, to act as a categorical label for ease of analysis. "
   ]
  },
  {
   "cell_type": "code",
   "execution_count": null,
   "metadata": {},
   "outputs": [],
   "source": [
    "books['genre_and_votes'] = books['genre_and_votes'].replace(np.NaN, 'Unknown')"
   ]
  },
  {
   "cell_type": "markdown",
   "metadata": {},
   "source": [
    "In order to simplify the `genre_and_votes` variable, a new variable was created that only listed the most voted for genre. "
   ]
  },
  {
   "cell_type": "code",
   "execution_count": null,
   "metadata": {},
   "outputs": [],
   "source": [
    "genres = []\n",
    "for i, text in enumerate(books['genre_and_votes']):\n",
    "    genre = re.split('\\d',text,1)[0].rstrip()\n",
    "    genre = re.split('-',genre,1)[0].rstrip()\n",
    "    genres.append(genre)\n",
    "    \n",
    "print(genres[0:10])"
   ]
  },
  {
   "cell_type": "code",
   "execution_count": null,
   "metadata": {},
   "outputs": [],
   "source": [
    "books['genre'] = genres\n",
    "print(len(np.unique(genres)))"
   ]
  },
  {
   "cell_type": "markdown",
   "metadata": {},
   "source": [
    "I created a binary variable to classify a book as being part of a series or not. "
   ]
  },
  {
   "cell_type": "code",
   "execution_count": null,
   "metadata": {},
   "outputs": [],
   "source": [
    "is_series = []\n",
    "\n",
    "for i in range(len(books)):\n",
    "    series = 1 if type(books.iloc[i,2]) == str else 0\n",
    "    is_series.append(series)\n",
    "    \n",
    "print(is_series[0:5])"
   ]
  },
  {
   "cell_type": "code",
   "execution_count": null,
   "metadata": {},
   "outputs": [],
   "source": [
    "books['is_series'] = is_series"
   ]
  },
  {
   "cell_type": "markdown",
   "metadata": {},
   "source": [
    "Similarly, another binary variable was created to classify if a book had been nomineed for at least one award"
   ]
  },
  {
   "cell_type": "code",
   "execution_count": null,
   "metadata": {},
   "outputs": [],
   "source": [
    "is_nominee = []\n",
    "\n",
    "for i in range(len(books)):\n",
    "    nominee = 1 if type(books.iloc[i,-3]) == str else 0\n",
    "    is_nominee.append(nominee)\n",
    "    \n",
    "print(is_nominee[0:5])\n",
    "books['is_nominated'] = is_nominee"
   ]
  },
  {
   "cell_type": "markdown",
   "metadata": {},
   "source": [
    "A dataframe that focuses on the numerical values only was created. "
   ]
  },
  {
   "cell_type": "code",
   "execution_count": null,
   "metadata": {},
   "outputs": [],
   "source": [
    "books_num = books[['rating_count', 'review_count', 'average_rating', 'five_star_ratings', 'four_star_ratings','three_star_ratings', \n",
    "       'two_star_ratings', 'one_star_ratings', 'number_of_pages']]"
   ]
  },
  {
   "cell_type": "code",
   "execution_count": null,
   "metadata": {},
   "outputs": [],
   "source": [
    "books_num.info()"
   ]
  },
  {
   "cell_type": "markdown",
   "metadata": {},
   "source": [
    "### Visualise"
   ]
  },
  {
   "cell_type": "code",
   "execution_count": null,
   "metadata": {},
   "outputs": [],
   "source": [
    "import matplotlib.pyplot as plt\n",
    "%matplotlib inline\n",
    "import seaborn as sns"
   ]
  },
  {
   "cell_type": "code",
   "execution_count": null,
   "metadata": {},
   "outputs": [],
   "source": [
    "#Checking correlation between variables\n",
    "plt.figure(figsize=(15,4))\n",
    "corr_matrix = books_num.corr()\n",
    "sns.heatmap(corr_matrix, annot=True)\n"
   ]
  },
  {
   "cell_type": "code",
   "execution_count": null,
   "metadata": {},
   "outputs": [],
   "source": [
    "def distribution_plots(df, column_names, num_cols = 2, fig_size=(20,16), save = False, **kwarg):\n",
    "    \"\"\"\n",
    "    Description: This function can be used to visualise multiple distribution plots using subplots\n",
    "\n",
    "    Arguments:\n",
    "        df: the dataframe \n",
    "        column_names: list, column names of \n",
    "                        which the distributions to be plotted \n",
    "        num_cols: int, number of columns to split the plot space into subplots. Default = 2\n",
    "        fig_size: tuple, size of the plot space. Default = (20,16)\n",
    "        save: bool, decides to save the plot. Default = False\n",
    "        name: optional string, file name to save image as. Only valid if `save` = True\n",
    "        \n",
    "    Returns:\n",
    "        None\n",
    "    \"\"\"\n",
    "    \n",
    "    num_plots = len(column_names)  \n",
    "    num_rows = math.ceil(num_plots/num_cols)\n",
    "    fig = plt.subplots(num_rows, num_cols, figsize=fig_size)\n",
    "    \n",
    "    for i, col in enumerate(column_names):\n",
    "        plt.subplot(num_rows, num_cols, (i+1))\n",
    "        plt1 = sns.kdeplot(df[col])\n",
    "        plt1.set_title((\"Distribution of \"+ col))\n",
    "        \n",
    "    if save:    \n",
    "        plt.savefig(kwarg['name'] +'.png')"
   ]
  },
  {
   "cell_type": "code",
   "execution_count": null,
   "metadata": {},
   "outputs": [],
   "source": [
    "# DISTRIBUTION PLOTS\n",
    "column_list = [\"rating_count\", \"average_rating\", 'number_of_pages', 'five_star_ratings']\n",
    "distribution_plots(books_num, column_names = column_list, num_cols = 2, fig_size=(20,16), save = True, name = \"distribution_plots\")"
   ]
  },
  {
   "cell_type": "code",
   "execution_count": null,
   "metadata": {},
   "outputs": [],
   "source": [
    "# A better look at the distributions of books with lengths less than 1000 pages, as the original plot is skewed. \n",
    "\n",
    "plt1 = sns.kdeplot(books_num[books_num['number_of_pages'] < 1000][\"number_of_pages\"])\n",
    "plt1.set_title(\"Distribution of number of pages of books with less than 1000pages\")"
   ]
  },
  {
   "cell_type": "markdown",
   "metadata": {},
   "source": [
    "### Analyse"
   ]
  },
  {
   "cell_type": "markdown",
   "metadata": {},
   "source": [
    "#### The Average Book"
   ]
  },
  {
   "cell_type": "code",
   "execution_count": null,
   "metadata": {},
   "outputs": [],
   "source": [
    "#Desriptive Statistics of numerical variables\n",
    "books.describe()"
   ]
  },
  {
   "cell_type": "code",
   "execution_count": null,
   "metadata": {},
   "outputs": [],
   "source": [
    "#Most common genre\n",
    "print(statistics.mode(books['genre']))\n",
    "\n",
    "#Second most common genre\n",
    "print(statistics.mode(books[books['genre']!= 'Fantasy']['genre']))"
   ]
  },
  {
   "cell_type": "code",
   "execution_count": null,
   "metadata": {},
   "outputs": [],
   "source": [
    "#number of books in 2 most common genres\n",
    "print(len(books[books['genre'] == 'Fantasy']['genre']))\n",
    "print(len(books[books['genre'] == 'Fiction']['genre']))"
   ]
  },
  {
   "cell_type": "code",
   "execution_count": null,
   "metadata": {},
   "outputs": [],
   "source": [
    "#number of books that are part of a series\n",
    "print(len(books[books['is_series'] == True]['is_series']))\n",
    "\n",
    "#determine if being part of a series is the most frequent reality of books\n",
    "print(statistics.mode(books['is_series']))"
   ]
  },
  {
   "cell_type": "code",
   "execution_count": null,
   "metadata": {},
   "outputs": [],
   "source": [
    "#number of books that are nominated for any award\n",
    "print(len(books[books['is_nominated'] == True]['is_nominated']))\n",
    "\n",
    "#determine if being award nominated is the most frequent reality of books\n",
    "print(statistics.mode(books['is_nominated']))"
   ]
  },
  {
   "cell_type": "code",
   "execution_count": null,
   "metadata": {},
   "outputs": [],
   "source": [
    "books_num.loc[:,'proportional_five_stars'] = books_num.loc[:,'five_star_ratings']/books_num.loc[:,'rating_count']"
   ]
  },
  {
   "cell_type": "code",
   "execution_count": null,
   "metadata": {},
   "outputs": [],
   "source": [
    "books_num.loc[:,'review_rating_ratio'] = books_num.loc[:,'review_count']/books_num.loc[:,'rating_count']"
   ]
  },
  {
   "cell_type": "code",
   "execution_count": null,
   "metadata": {},
   "outputs": [],
   "source": [
    "#Distribution plots of new variables\n",
    "column_list = [\"proportional_five_stars\", \"review_rating_ratio\"]\n",
    "distribution_plots(books_num, column_names = column_list, num_cols = 2, fig_size=(16,8), \n",
    "                   save = True, name = \"distribution_plots_3\")"
   ]
  },
  {
   "cell_type": "code",
   "execution_count": null,
   "metadata": {},
   "outputs": [],
   "source": [
    "books_num.head()"
   ]
  },
  {
   "cell_type": "code",
   "execution_count": null,
   "metadata": {},
   "outputs": [],
   "source": [
    "books_num.describe()"
   ]
  },
  {
   "cell_type": "code",
   "execution_count": null,
   "metadata": {},
   "outputs": [],
   "source": [
    "sns.pairplot(books_num)"
   ]
  },
  {
   "cell_type": "markdown",
   "metadata": {},
   "source": [
    "#### Five Star Rated Books\n",
    "Does the number of people who have read book correlate to the rating of said book? ie does the popularity of a book suggest its “goodness”"
   ]
  },
  {
   "cell_type": "code",
   "execution_count": null,
   "metadata": {},
   "outputs": [],
   "source": [
    "#Books with average rating of 5\n",
    "five_star_books = books_num[books_num['average_rating'] == 5]"
   ]
  },
  {
   "cell_type": "code",
   "execution_count": null,
   "metadata": {},
   "outputs": [],
   "source": [
    "#average values of variables for 5-rated books\n",
    "five_star_books.mean()"
   ]
  },
  {
   "cell_type": "code",
   "execution_count": null,
   "metadata": {},
   "outputs": [],
   "source": [
    "#highest values of variables for 5-rated books\n",
    "five_star_books.max()"
   ]
  },
  {
   "cell_type": "code",
   "execution_count": null,
   "metadata": {},
   "outputs": [],
   "source": [
    "#Identifying five star book with most ratings\n",
    "five_star_books[five_star_books['rating_count'] == 375]"
   ]
  },
  {
   "cell_type": "code",
   "execution_count": null,
   "metadata": {},
   "outputs": [],
   "source": [
    "books.loc[44353,\"title\"]"
   ]
  },
  {
   "cell_type": "code",
   "execution_count": null,
   "metadata": {},
   "outputs": [],
   "source": [
    "#Identifying five star book with most reviews\n",
    "five_star_books[five_star_books['review_count'] == 17]"
   ]
  },
  {
   "cell_type": "code",
   "execution_count": null,
   "metadata": {},
   "outputs": [],
   "source": [
    "books.loc[12217,[\"title\",\"author\"]]"
   ]
  },
  {
   "cell_type": "code",
   "execution_count": null,
   "metadata": {},
   "outputs": [],
   "source": [
    "#descriptive statistics for five star books\n",
    "five_star_books.describe()"
   ]
  },
  {
   "cell_type": "code",
   "execution_count": null,
   "metadata": {},
   "outputs": [],
   "source": [
    "#Distribution plot of five star books' rating count\n",
    "column_list = [\"rating_count\"]\n",
    "distribution_plots(five_star_books, column_names = column_list, num_cols = 1, fig_size=(8,6), \n",
    "                   save = True, name = \"distribution_plots_2\")"
   ]
  },
  {
   "cell_type": "markdown",
   "metadata": {},
   "source": [
    "#### Genre\n",
    "Which genres perform better?"
   ]
  },
  {
   "cell_type": "code",
   "execution_count": null,
   "metadata": {},
   "outputs": [],
   "source": [
    "#Looking at some variable by their mean, grouped by genre\n",
    "mean_by_genre = books.groupby('genre').mean().sort_values(\"average_rating\", ascending=False)[['average_rating','number_of_pages', 'rating_count','review_count','is_series', 'is_nominated']]"
   ]
  },
  {
   "cell_type": "code",
   "execution_count": null,
   "metadata": {},
   "outputs": [],
   "source": [
    "#Looking at some variable by their total, grouped by genre\n",
    "sum_by_genre = books.groupby('genre').sum().sort_values('rating_count', ascending=False)[['rating_count','review_count','is_series', 'is_nominated']]"
   ]
  },
  {
   "cell_type": "code",
   "execution_count": null,
   "metadata": {},
   "outputs": [],
   "source": [
    "mean_by_genre.head(10)"
   ]
  },
  {
   "cell_type": "code",
   "execution_count": null,
   "metadata": {},
   "outputs": [],
   "source": [
    "top_10_genres = mean_by_genre.head(10)"
   ]
  },
  {
   "cell_type": "code",
   "execution_count": null,
   "metadata": {},
   "outputs": [],
   "source": [
    "fig = plt.subplots(1,1, figsize=(16,8))\n",
    "plt6 = sns.barplot(x = top_10_genres.index, y = 'average_rating', data = top_10_genres, orient = None)\n",
    "plt6.set_title(\"Average Rating of Top 10 Genres\")\n",
    "plt.savefig('chart.png')"
   ]
  },
  {
   "cell_type": "code",
   "execution_count": null,
   "metadata": {},
   "outputs": [],
   "source": [
    "sum_by_genre.head()"
   ]
  },
  {
   "cell_type": "code",
   "execution_count": null,
   "metadata": {},
   "outputs": [],
   "source": [
    "by_genre = mean_by_genre.join(sum_by_genre, on = 'genre')"
   ]
  },
  {
   "cell_type": "code",
   "execution_count": null,
   "metadata": {},
   "outputs": [],
   "source": [
    "by_genre.head()"
   ]
  },
  {
   "cell_type": "code",
   "execution_count": null,
   "metadata": {},
   "outputs": [],
   "source": [
    "#correlation matrix of variables grouped by genre\n",
    "corr_matrix = by_genre.corr()\n",
    "sns.heatmap(corr_matrix, annot=True)"
   ]
  },
  {
   "cell_type": "markdown",
   "metadata": {},
   "source": [
    "#### Bonus: Publisher\n",
    "A look at the impact a publishing house has on popularity of books"
   ]
  },
  {
   "cell_type": "code",
   "execution_count": null,
   "metadata": {},
   "outputs": [],
   "source": [
    "books.publisher = books.publisher.fillna(\"Unknown\")"
   ]
  },
  {
   "cell_type": "code",
   "execution_count": null,
   "metadata": {},
   "outputs": [],
   "source": [
    "len(np.unique(books.publisher))"
   ]
  },
  {
   "cell_type": "code",
   "execution_count": null,
   "metadata": {
    "scrolled": true
   },
   "outputs": [],
   "source": [
    "sum_by_publisher = books.groupby('publisher').sum().sort_values('rating_count', ascending=False)[[\"rating_count\",\"review_count\",\"average_rating\",\"number_of_pages\",\"is_series\",\"is_nominated\"]]\n",
    "top10_publishers = sum_by_publisher.head(10)"
   ]
  },
  {
   "cell_type": "code",
   "execution_count": null,
   "metadata": {},
   "outputs": [],
   "source": [
    "top10_publishers.index"
   ]
  },
  {
   "cell_type": "code",
   "execution_count": null,
   "metadata": {},
   "outputs": [],
   "source": [
    "mean_by_publisher = books.groupby('publisher').mean().sort_values('rating_count', ascending=False)[[\"rating_count\",\"review_count\",\"average_rating\",\"number_of_pages\",\"is_series\",\"is_nominated\"]]\n"
   ]
  },
  {
   "cell_type": "code",
   "execution_count": null,
   "metadata": {},
   "outputs": [],
   "source": [
    "top10_publishers_mean = mean_by_publisher[mean_by_publisher.index.isin(top10_publishers.index)]"
   ]
  },
  {
   "cell_type": "code",
   "execution_count": null,
   "metadata": {},
   "outputs": [],
   "source": [
    "fig = plt.subplots(1,1, figsize=(16,8))\n",
    "plt7 = sns.barplot(x = top10_publishers_mean.index, y = 'average_rating', data = top10_publishers_mean, orient = None)\n",
    "plt7.set_title(\"Average Rating of Top 10 Publishers\")\n"
   ]
  }
 ],
 "metadata": {
  "kernelspec": {
   "display_name": "Python 3",
   "language": "python",
   "name": "python3"
  },
  "language_info": {
   "codemirror_mode": {
    "name": "ipython",
    "version": 3
   },
   "file_extension": ".py",
   "mimetype": "text/x-python",
   "name": "python",
   "nbconvert_exporter": "python",
   "pygments_lexer": "ipython3",
   "version": "3.7.6"
  }
 },
 "nbformat": 4,
 "nbformat_minor": 4
}
